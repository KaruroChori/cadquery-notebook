{
 "cells": [
  {
   "cell_type": "markdown",
   "id": "72e149c9-cf97-462e-8845-b6f174f43fdb",
   "metadata": {},
   "source": [
    "# TODO (WIP)\n",
    "This repository is still under development! Still, I wanted to release it before it faded in some remote location of my hard-drive and here it is.  \n",
    "Keep in mind I **am not** a python developer. Any feedback is welcome.\n",
    "\n",
    "There is still a lot to do!\n",
    "- More detailed documentation\n",
    "- Export of the fields to file to store a current configuration so that it can be retrieved later\n",
    "- Expose an HTTP interface to generate models on demand\n",
    "- Integration for simulations?\n",
    "- Better support for assemblies\n",
    "- Complete the example model to show all features of the basic class, unlike now :(\n",
    "\n",
    "# It starts here!"
   ]
  },
  {
   "cell_type": "markdown",
   "id": "7de34676-f94c-4667-9a66-3509fdd291d1",
   "metadata": {},
   "source": [
    "Basic initialization for the notebook, so that cadquery is properly integrated, and the preview on the sidebar is rendered."
   ]
  },
  {
   "cell_type": "code",
   "execution_count": 5,
   "id": "e3941bd6-bffc-4653-9e34-d941b3cdeb2f",
   "metadata": {},
   "outputs": [
    {
     "data": {
      "text/html": [
       "<style>\n",
       ".scroll-area {\n",
       "    overflow: scroll !important;\n",
       "    border: unset !important;\n",
       "}\n",
       "\n",
       ".mac-scrollbar::-webkit-scrollbar {\n",
       "    width: 5px !important;\n",
       "    height: 5px !important;\n",
       "}\n",
       "\n",
       ".mac-scrollbar::-webkit-scrollbar-track {\n",
       "    background-color: transparent !important;\n",
       "}\n",
       "\n",
       ".mac-scrollbar .widget-html-content {\n",
       "    overflow-x: visible;\n",
       "    overflow-y: visible;\n",
       "}\n",
       "\n",
       ".tab-content-no-padding .widget-tab-contents {\n",
       "    overflow-x: visible !important;\n",
       "    overflow-y: visible !important;\n",
       "    padding-bottom: 0px !important;\n",
       "}\n",
       "\n",
       ".view_renderer {\n",
       "    border: 1px solid var(--jp-border-color1);\n",
       "    margin-top: 3px;\n",
       "    margin-left: 2px;\n",
       "}\n",
       "\n",
       ".view_tree {\n",
       "    padding: 0px !important;\n",
       "}\n",
       "\n",
       ".view_axes {\n",
       "    width: 60px !important;\n",
       "    margin-left: 5px !important;\n",
       "}\n",
       "\n",
       ".view_zero {\n",
       "    width: 55px !important;\n",
       "}\n",
       "\n",
       ".view_grid {\n",
       "    width: 56px !important;\n",
       "}\n",
       "\n",
       ".view_ortho {\n",
       "    width: 64px !important;\n",
       "}\n",
       "\n",
       ".view_transparent {\n",
       "    width: 125px !important;\n",
       "}\n",
       "\n",
       ".view_black_edges {\n",
       "    width: 105px !important;\n",
       "}\n",
       "\n",
       ".view_button {\n",
       "    padding: 0px !important;\n",
       "}\n",
       "\n",
       ".view_button>img {\n",
       "    height: 28px;\n",
       "    width: 36px;\n",
       "}\n",
       "\n",
       ".node_entry_wrap {\n",
       "    white-space: pre;\n",
       "}\n",
       "\n",
       ".node_entry {\n",
       "    white-space: nowrap;\n",
       "    padding-top: 4px;\n",
       "}\n",
       "\n",
       ".t-caret {\n",
       "    cursor: pointer;\n",
       "    -webkit-user-select: none;\n",
       "    /* Safari 3.1+ */\n",
       "    -moz-user-select: none;\n",
       "    /* Firefox 2+ */\n",
       "    -ms-user-select: none;\n",
       "    /* IE 10+ */\n",
       "    user-select: none;\n",
       "}\n",
       "\n",
       ".t-caret-down::before {\n",
       "    -ms-transform: rotate(90deg);\n",
       "    /* IE 9 */\n",
       "    -webkit-transform: rotate(90deg);\n",
       "    /* Safari */\n",
       "    transform: rotate(90deg);\n",
       "}\n",
       "\n",
       ".toplevel {\n",
       "    list-style-type: none;\n",
       "    padding-inline-start: 0px;\n",
       "}\n",
       "\n",
       ".nested {\n",
       "    display: none;\n",
       "    list-style-type: none;\n",
       "    padding-inline-start: 16px;\n",
       "}\n",
       "\n",
       ".active {\n",
       "    display: block;\n",
       "}\n",
       "\n",
       ".icon {\n",
       "    width: 28px !important;\n",
       "    height: 22px !important;\n",
       "    padding-right: 2px;\n",
       "    vertical-align: middle;\n",
       "}\n",
       "\n",
       ".indent {\n",
       "    margin-left: 12px;\n",
       "}\n",
       "\n",
       ".tree_label {\n",
       "    padding-left: 2px;\n",
       "    font-size: 14px;\n",
       "}\n",
       "\n",
       ".scroll_down {\n",
       "    display: flex;\n",
       "    flex-direction: column-reverse;\n",
       "}\n",
       "\n",
       ".small_table {\n",
       "    line-height: 14px;\n",
       "}\n",
       "\n",
       ".monospace select {\n",
       "    font-family: monospace;\n",
       "}\n",
       "\n",
       "        .t-caret::before {\n",
       "            content: u\"▶\";\n",
       "            font-size: 12px;\n",
       "            color: \"#080808\";\n",
       "            display: inline-block;\n",
       "            margin-right: 2px;\n",
       "        }\n",
       "\n",
       "        .mac-scrollbar::-webkit-scrollbar-thumb {\n",
       "            background-color: rgba(0, 0, 0, 0.2) !important;\n",
       "            border-radius: 100px !important;\n",
       "        }\n",
       "\n",
       "        .mac-scrollbar::-webkit-scrollbar-thumb:hover {\n",
       "            background: rgba(0, 0, 0, 0.4) !important;\n",
       "        }\n",
       "\n",
       "        .mac-scrollbar::-webkit-scrollbar-thumb:active {\n",
       "            background: #181818 !important;\n",
       "        }\n",
       "\n",
       "        .mac-scrollbar::-webkit-scrollbar-corner {\n",
       "            background: white;\n",
       "        }\n",
       "\n",
       "        .view_output {\n",
       "            border: 1px solid var(--jp-border-color1);\n",
       "            margin: 2px 2px 2px 2px !important;\n",
       "            padding-right: 1px !important;\n",
       "            background-color: white;\n",
       "        }\n",
       "    </style>"
      ],
      "text/plain": [
       "<IPython.core.display.HTML object>"
      ]
     },
     "metadata": {},
     "output_type": "display_data"
    }
   ],
   "source": [
    "import cadquery as cq\n",
    "from jupyter_cadquery.cadquery import (PartGroup, Part, Edges, Faces, Vertices, show)\n",
    "from jupyter_cadquery import set_sidecar, set_defaults\n",
    "\n",
    "set_defaults(axes=False, grid=True, axes0=True, ortho=True, transparent=True)\n",
    "set_sidecar(\"CadQuery\", init=True)"
   ]
  },
  {
   "cell_type": "markdown",
   "id": "acf4581c-dcb0-46a9-b097-61f7cff29585",
   "metadata": {},
   "source": [
    "Additional libraries specifically needed for this notebook:"
   ]
  },
  {
   "cell_type": "code",
   "execution_count": 6,
   "id": "97405676-593e-4b74-a7d9-4ff0213b280a",
   "metadata": {},
   "outputs": [],
   "source": [
    "import ipywidgets as widgets\n",
    "import time\n",
    "import random\n",
    "import hashlib"
   ]
  },
  {
   "cell_type": "markdown",
   "id": "40b5a182-5bb7-41e7-b1fc-1c00019eb94c",
   "metadata": {},
   "source": [
    "## Helper functions\n",
    "A selection of functions which will be employed across multiple classes and which are nice to have."
   ]
  },
  {
   "cell_type": "code",
   "execution_count": 8,
   "id": "c65bc977-5c1e-4d4a-a9de-82ce61cc4aff",
   "metadata": {},
   "outputs": [],
   "source": [
    "# Generate a (almost surely) unique name by combining a pseudo-random hash and a timestamp.\n",
    "def unique_name():\n",
    "    return str(int(time.time()))+\"_\"+hashlib.md5(str(random.randint(0,99999999)).encode('utf-8')).hexdigest()\n"
   ]
  },
  {
   "cell_type": "markdown",
   "id": "2d5ab547-4892-4647-84a7-ba4c8cc3fbf1",
   "metadata": {},
   "source": [
    "## LOD class\n",
    "Support class to describe the level of detail we want for the target model to be generated. It is pretty much the same idea as we would find in most game engines, just for CAD design.  \n",
    "Ideally we want to use coarser LODs for simplified view or complex assemblies where performance would be affected.  \n",
    "We want finer LODs for final models which must be exported for machining/printing.\n",
    "\n",
    "In general we can recognize the following three stages:\n",
    "- Basic volume: to ensure that this object can fit inside an other. No holes, no fine details like textures or slots. Often it could be implemented as the convex hull of our object. It is meant to be used for cuts.\n",
    "- Detailed volume: it contains holes and slots, even more so when they have a functional role in the design. It is used for assemblies and fast rendering.\n",
    "- Complete model: in addition to holes and slots, textures, threads and any other fine detail is captured. They are meant for high quality renderings or final exports to be machined/printed.\n",
    "\n",
    "More complex and model specific flags can be defined to target a finer control."
   ]
  },
  {
   "cell_type": "code",
   "execution_count": 2,
   "id": "44dda2e3-321a-4a95-830c-1fddee210ff4",
   "metadata": {},
   "outputs": [],
   "source": [
    "class LOD:\n",
    "    def __init__(self, threads=False, holes=False):\n",
    "        self.threads = threads\n",
    "        self.holes = holes"
   ]
  },
  {
   "cell_type": "markdown",
   "id": "115a25f3-3658-4510-bf7d-3144e94a0cbc",
   "metadata": {},
   "source": [
    "## Model class\n",
    "Base class which can be used to define all future models. This implementation is arbitrary, and there is plenty of alternative paths which might have been followed.\n",
    "\n",
    "**Model** is virtual and should not be instanced directly."
   ]
  },
  {
   "cell_type": "code",
   "execution_count": 9,
   "id": "75e7c9e0-05f6-4468-b2a8-af8184874846",
   "metadata": {},
   "outputs": [],
   "source": [
    "class Model:\n",
    "    _shapes = []\n",
    "    _holes = []\n",
    "    _refs  = []\n",
    "    \n",
    "    def _build(self, LOD):\n",
    "        raise Exception(\"Model is a virtual class\")\n",
    "        return\n",
    "        \n",
    "    def _fields(self):\n",
    "        raise Exception(\"Model is a virtual class\")\n",
    "        return\n",
    "    \n",
    "    def build(self, LOD = LOD()):\n",
    "        return self._build(LOD)\n",
    "\n",
    "    def fields(self):\n",
    "        return self._fields()\n",
    "    \n",
    "    # Standard reduction scheme, based on union of shapes minus union of holes.\n",
    "    # Performance should be profiled to decide which is the best way to implement it.\n",
    "    def draw(self):\n",
    "        if len(self._shapes)==0:\n",
    "            raise Exception(\"Empty shape list\")\n",
    "            \n",
    "        tmp = self._shapes[0]\n",
    "        for v in self._shapes:\n",
    "            tmp = v.union(tmp)\n",
    "\n",
    "        for v in self._holes:\n",
    "            tmp = tmp.cut(v)\n",
    "            \n",
    "        return tmp\n",
    "    \n",
    "    # Show buttons to control the generation in the viewport and exporting files.\n",
    "    def gui(self, LOD = LOD()):\n",
    "        def refresh(model):\n",
    "            self.build(LOD)\n",
    "            display(self.draw())\n",
    "    \n",
    "        def export_step(model):\n",
    "            self.build(LOD)\n",
    "            tmp=self.draw()\n",
    "            display(tmp)\n",
    "            tmpFile=\"./tmp/\"+unique_name()+\".step\"\n",
    "            cq.exporters.export(tmp, tmpFile)\n",
    "            link.value=\"<a href=\\\"\"+tmpFile+\"\\\" download>Dowload STEP</a>\"\n",
    "            \n",
    "        def export_mesh(model):\n",
    "            self.build(LOD)\n",
    "            tmp=self.draw()\n",
    "            display(tmp)\n",
    "            tmpFile=\"./tmp/\"+unique_name()+\".amf\"\n",
    "            cq.exporters.export(tmp, tmpFile)\n",
    "            link.value=\"<a href=\\\"\"+tmpFile+\"\\\" download>Dowload mesh</a>\"\n",
    "        \n",
    "        btn_refresh = widgets.Button(description=\"Refresh\")\n",
    "        btn_export_step = widgets.Button(description=\"Export STEP\")\n",
    "        btn_export_mesh = widgets.Button(description=\"Export mesh\")\n",
    "        link = widgets.HTML(\"<a>[No file]</a>\")\n",
    "        \n",
    "        btn_refresh.on_click(refresh)\n",
    "        btn_export_step.on_click(export_step)\n",
    "        btn_export_mesh.on_click(export_mesh)\n",
    "        \n",
    "        display(btn_refresh,btn_export_step,btn_export_mesh,link)\n",
    "        return\n",
    "    \n",
    "    @property\n",
    "    def shapes(self):\n",
    "        return self._shape\n",
    "    \n",
    "    @shapes.setter\n",
    "    def shapes(self,val):\n",
    "        raise Exception(\"shape is readonly\")\n",
    "        \n",
    "    @property\n",
    "    def holes(self):\n",
    "        return self._holes\n",
    "    \n",
    "    @holes.setter\n",
    "    def holes(self,val):\n",
    "        raise Exception(\"holes is readonly\")\n",
    "        \n",
    "    @property\n",
    "    def refs(self):\n",
    "        return self._refs\n",
    "    \n",
    "    @refs.setter\n",
    "    def refs(self,val):\n",
    "        raise Exception(\"refs is readonly\")"
   ]
  },
  {
   "cell_type": "markdown",
   "id": "f325ce64-6047-469c-9fba-951b7d5945ec",
   "metadata": {},
   "source": [
    "### Example of a derived model\n",
    "A test class derived from model to show how the full workflow to generate single components is meant.  \n",
    "In this case it is a simple prism with a square base and a cylindrical hole centered on the vertical axis."
   ]
  },
  {
   "cell_type": "code",
   "execution_count": 10,
   "id": "ef9e5590-41fc-4925-9acc-4c91b0dcb630",
   "metadata": {},
   "outputs": [],
   "source": [
    "class DerivedModel(Model):\n",
    "    _par = {\"height\":0.5}\n",
    "    def _fields(self):\n",
    "        #w=widgets.IntSlider()\n",
    "        #display(w)\n",
    "        #@widgets.interact(has_hole=True, y=1.0)\n",
    "        #def g(has_hole, y):\n",
    "        #    self._shape = [has_hole]\n",
    "        #    return (has_hole, y)\n",
    "\n",
    "        #w = widgets.interactive(g, has_hole=True, y=2.0)\n",
    "        #display(w)\n",
    "        x = 5\n",
    "        p = widgets.IntSlider()\n",
    "        p.value = self._par[\"height\"]\n",
    "        def on_change(v):\n",
    "            self._par[\"height\"] = v['new']\n",
    "        p.observe(on_change, names='value')\n",
    "        display(p)\n",
    "        return\n",
    "    \n",
    "    def _build(self, LOD):\n",
    "        self._shapes = [cq.Workplane(\"front\").rect(1,0.5).extrude(self._par[\"height\"])]\n"
   ]
  },
  {
   "cell_type": "markdown",
   "id": "3337623a-6934-44c9-a5ec-23fe6f98b93c",
   "metadata": {},
   "source": [
    "We can test this example implementation with few lines of code. Interactive fields and export buttons can be easily generated! \n",
    "\n",
    "You can play around with the sliders, and press refresh to see the updated model which can also be exported by generating the temporary file and downloading it."
   ]
  },
  {
   "cell_type": "code",
   "execution_count": 11,
   "id": "ce638c4d-b7be-4ab3-9152-b67194c43945",
   "metadata": {},
   "outputs": [
    {
     "name": "stdout",
     "output_type": "stream",
     "text": [
      "Done, using side car 'Cadquery'\n"
     ]
    },
    {
     "data": {
      "application/vnd.jupyter.widget-view+json": {
       "model_id": "cf496a057f0e4b6cbdd2affaf6973873",
       "version_major": 2,
       "version_minor": 0
      },
      "text/plain": [
       "IntSlider(value=0)"
      ]
     },
     "metadata": {},
     "output_type": "display_data"
    },
    {
     "data": {
      "application/vnd.jupyter.widget-view+json": {
       "model_id": "5f29a3765fa448b38427a89d18694e58",
       "version_major": 2,
       "version_minor": 0
      },
      "text/plain": [
       "Button(description='Refresh', style=ButtonStyle())"
      ]
     },
     "metadata": {},
     "output_type": "display_data"
    },
    {
     "data": {
      "application/vnd.jupyter.widget-view+json": {
       "model_id": "ab0182d77fe249c388e3b240e267accf",
       "version_major": 2,
       "version_minor": 0
      },
      "text/plain": [
       "Button(description='Export STEP', style=ButtonStyle())"
      ]
     },
     "metadata": {},
     "output_type": "display_data"
    },
    {
     "data": {
      "application/vnd.jupyter.widget-view+json": {
       "model_id": "a0e04609afaa431b856b899bbfe960a4",
       "version_major": 2,
       "version_minor": 0
      },
      "text/plain": [
       "Button(description='Export mesh', style=ButtonStyle())"
      ]
     },
     "metadata": {},
     "output_type": "display_data"
    },
    {
     "data": {
      "application/vnd.jupyter.widget-view+json": {
       "model_id": "6a4c5000160a43b4b0b651511fc41e42",
       "version_major": 2,
       "version_minor": 0
      },
      "text/plain": [
       "HTML(value='<a>[No file]</a>')"
      ]
     },
     "metadata": {},
     "output_type": "display_data"
    }
   ],
   "source": [
    "testModel = DerivedModel()\n",
    "testModel.build()\n",
    "display(testModel.draw())\n",
    "\n",
    "testModel.fields()\n",
    "testModel.gui()"
   ]
  },
  {
   "cell_type": "code",
   "execution_count": null,
   "id": "033ff2b8-8e63-4cee-a2e3-2466877eca81",
   "metadata": {},
   "outputs": [],
   "source": []
  }
 ],
 "metadata": {
  "kernelspec": {
   "display_name": "Python 3 (ipykernel)",
   "language": "python",
   "name": "python3"
  },
  "language_info": {
   "codemirror_mode": {
    "name": "ipython",
    "version": 3
   },
   "file_extension": ".py",
   "mimetype": "text/x-python",
   "name": "python",
   "nbconvert_exporter": "python",
   "pygments_lexer": "ipython3",
   "version": "3.8.8"
  }
 },
 "nbformat": 4,
 "nbformat_minor": 5
}
